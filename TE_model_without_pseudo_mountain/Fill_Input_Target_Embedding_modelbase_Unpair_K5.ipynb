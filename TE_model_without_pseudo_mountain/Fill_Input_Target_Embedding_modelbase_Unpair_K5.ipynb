{
 "cells": [
  {
   "cell_type": "code",
   "execution_count": null,
   "metadata": {
    "ExecuteTime": {
     "end_time": "2021-02-08T15:11:48.189321Z",
     "start_time": "2021-02-08T15:11:33.581799Z"
    }
   },
   "outputs": [],
   "source": [
    "from tensorflow.keras.models import *\n",
    "from tensorflow.keras.layers import *\n",
    "from tensorflow.keras.callbacks import *\n",
    "from tensorflow.keras import backend as K\n",
    "from __init__ import glob_all, plot_map\n",
    "from __TargetEmbedding__ import auto_delete_hdf5_save_history, Encoder, Decoder\n",
    "from RandomTesting.__RandomTesting__ import Random_Testing, calculate_extract_loss\n",
    "from tqdm import tqdm\n",
    "\n",
    "import tensorflow.compat.v1 as tf\n",
    "import matplotlib.pyplot as plt\n",
    "import numpy as np\n",
    "import pandas as pd\n",
    "import warnings\n",
    "import keras\n",
    "import os\n",
    "\n",
    "\n",
    "warnings.filterwarnings('ignore')\n",
    "os.environ[\"CUDA_VISIBLE_DEVICES\"] = \"3\"\n",
    "tf.config.optimizer.set_jit(True)"
   ]
  },
  {
   "cell_type": "markdown",
   "metadata": {},
   "source": [
    "# Load"
   ]
  },
  {
   "cell_type": "code",
   "execution_count": null,
   "metadata": {
    "ExecuteTime": {
     "end_time": "2021-02-08T15:14:19.799173Z",
     "start_time": "2021-02-08T15:14:17.000996Z"
    }
   },
   "outputs": [],
   "source": [
    "home_path = '/data1/home/weisting/CycleGan/Experiment5/'\n",
    "\n",
    "channel_number = 6; train_bs = 12; total_training_time = 30; _=0; extract_nb = 4\n",
    "\n",
    "EPA73_test_pm25 = np.load(home_path+'348X204/EPA73_Testing_348X204_PM25.npy', mmap_mode='r')[:3000]\n",
    "station_coordinate = pd.read_csv('RandomTesting/station_coordinate')\n",
    "ex5_lst = np.load('RandomTesting/extract5_list.npy')\n",
    "ex10_lst = np.load('RandomTesting/extract10_list.npy')\n",
    "ex15_lst = np.load('RandomTesting/extract15_list.npy')\n",
    "ex20_lst = np.load('RandomTesting/extract20_list.npy')\n",
    "\n",
    "ex20_KNN = np.load(home_path+'Fill_Input_Version/Target_Embedding/Fill_TE_Data/EPA73_testing_KNN5fill_ex20.npy', mmap_mode='r')\n",
    "\n",
    "\n",
    "AIR73_train = np.reshape(np.load('AIR73_Align_KNN5_Training_del.npy', mmap_mode='r'),(1538,348,204,1))\n",
    "AIR_train = np.load('AIR_Align_Kriging_Training_del.npy', mmap_mode='r')\n",
    "\n",
    "AIR73_test = np.reshape(np.load('AIR73_Align_KNN5_Testing_del.npy', mmap_mode='r'),(350,348,204,1))\n",
    "AIR_test = np.load('AIR_Align_Kriging_Testing_del.npy', mmap_mode='r')\n",
    "\n",
    "\n",
    "Sat73_train = np.reshape(np.load('SAT73_Align_KNN5_Training_del.npy', mmap_mode='r'),(1538,348,204,1))\n",
    "Sat_train = np.load('SAT_Align_fill_Training_del.npy', mmap_mode='r')\n",
    "\n",
    "Sat73_test = np.reshape(np.load('SAT73_Align_KNN5_Testing_del.npy', mmap_mode='r'),(350,348,204,1))\n",
    "Sat_test = np.load('SAT_Align_fill_Testing_del.npy', mmap_mode='r')\n",
    "\n",
    "train73 = np.concatenate([AIR73_train,Sat73_train])\n",
    "test73 = np.concatenate([AIR73_test,Sat73_test])\n",
    "train = np.concatenate([AIR_train,Sat_train])\n",
    "test = np.concatenate([AIR_test,Sat_test])\n",
    "\n",
    "ALL_Encoder_model = Encoder(channel_number)\n",
    "ALL_Decoder_model = Decoder(channel_number)\n",
    "x = Input(shape=(348, 204, 1))\n",
    "ALL_Autoencoder = Model(x,ALL_Decoder_model(ALL_Encoder_model(x)))\n",
    "Unpair_weight = glob_all(home_path+'Weight/Unpair_Weight_channel'+str(channel_number))[0]\n",
    "ALL_Autoencoder.load_weights(Unpair_weight)\n",
    "for layer in ALL_Autoencoder.layers:layer.trainable = False\n",
    "for layer in ALL_Encoder_model.layers:layer.trainable = False\n",
    "for layer in ALL_Decoder_model.layers:layer.trainable = False"
   ]
  },
  {
   "cell_type": "markdown",
   "metadata": {},
   "source": [
    "# Main"
   ]
  },
  {
   "cell_type": "code",
   "execution_count": null,
   "metadata": {
    "ExecuteTime": {
     "end_time": "2021-02-09T03:25:23.714259Z",
     "start_time": "2021-02-08T15:15:05.316951Z"
    },
    "scrolled": true
   },
   "outputs": [],
   "source": [
    "for training_time in range(total_training_time):\n",
    "    K.clear_session()\n",
    "           \n",
    "    path ='Fill_Input_Unpair_Encoder_AIRSATALL_Decoder_channel'+str(channel_number)+'_K5/'+str(training_time)+'/'\n",
    "    if not os.path.exists(path):os.makedirs(path)    \n",
    "    \n",
    "    Unpair73_Encoder_model = Encoder(channel_number)\n",
    "    Unpair73_Autoencoder = Model(x,ALL_Decoder_model(Unpair73_Encoder_model(x)))\n",
    "    Unpair73_Autoencoder.compile(loss='mse',optimizer='adam')    \n",
    "\n",
    "\n",
    "    filepath=path+'{epoch:04d}-train_{loss:f}-test_{val_loss:f}.h5'\n",
    "    earlystopper = EarlyStopping(monitor='val_loss', patience=120, verbose=0)\n",
    "    reduce_lr = ReduceLROnPlateau(monitor='val_loss',factor = 0.2,patience=30,\n",
    "                                  min_lr = 2e-7,verbose = 0)   \n",
    "\n",
    "    checkpoint = ModelCheckpoint(filepath, monitor='val_loss', save_best_only=True, mode='auto')    \n",
    "    callbacks_list = [earlystopper,reduce_lr,checkpoint]   \n",
    "\n",
    "    history = Unpair73_Autoencoder.fit(train73,train, validation_data=(test73, test),\n",
    "                                    batch_size=train_bs,epochs=200,\n",
    "                                    callbacks=callbacks_list, verbose=2)      \n",
    "    \n",
    "    auto_delete_hdf5_save_history(training_time, _, path, delete=True, plot=False)\n",
    "    Unpair73_Autoencoder.load_weights(glob_all(path)[0])\n",
    "    \n",
    "    total_mse, total_mae, total_mape = ([] for _ in range(3))\n",
    "    for i in tqdm(range(30)):\n",
    "        a ,lats_ex20,lons_ex20=Random_Testing(extract_nb,i,station_coordinate, EPA73_test_pm25, ex5_lst, ex10_lst, ex15_lst, ex20_lst)\n",
    "        predict_test = Unpair73_Autoencoder.predict(ex20_KNN[i])\n",
    "        mse, mae, mape = calculate_extract_loss(predict_test, EPA73_test_pm25, lats_ex20, lons_ex20)\n",
    "        total_mse.append(mse); total_mae.append(mae); total_mape.append(mape)\n",
    "    del predict_test; del a\n",
    "    print('ex20-- mean mse:%.4f_mean mae:%.4f_mean mape:%.4f'\n",
    "          %(np.mean(total_mse),np.mean(total_mae),np.mean(total_mape)))\n",
    "\n",
    "    f1 = open(path+'Extractresult'+str(extract_nb)+'.txt', 'a')\n",
    "    print('----------'+'avg_mse_loss'+'----------',file=f1)\n",
    "    print('max:  '+str(np.array(total_mse).max()),file=f1)\n",
    "    print('min:  '+str(np.array(total_mse).min()),file=f1)\n",
    "    print('mean: '+str(np.array(total_mse).mean()),file=f1)\n",
    "    print('var:  '+str(np.array(total_mse).var()),file=f1)\n",
    "    print('std:  '+str(np.array(total_mse).std()),file=f1)\n",
    "    print('---------------------------',file=f1)\n",
    "\n",
    "    print('----------'+'avg_mae_loss'+'----------',file=f1)\n",
    "    print('max:  '+str(np.array(total_mae).max()),file=f1)\n",
    "    print('min:  '+str(np.array(total_mae).min()),file=f1)\n",
    "    print('mean: '+str(np.array(total_mae).mean()),file=f1)\n",
    "    print('var:  '+str(np.array(total_mae).var()),file=f1)\n",
    "    print('std:  '+str(np.array(total_mae).std()),file=f1)\n",
    "    print('---------------------------',file=f1)\n",
    "\n",
    "    print('----------'+'avg_mape_loss'+'----------',file=f1)\n",
    "    print('max:  '+str(np.array(total_mape).max()),file=f1)\n",
    "    print('min:  '+str(np.array(total_mape).min()),file=f1)\n",
    "    print('mean: '+str(np.array(total_mape).mean()),file=f1)\n",
    "    print('var:  '+str(np.array(total_mape).var()),file=f1)\n",
    "    print('std:  '+str(np.array(total_mape).std()),file=f1)\n",
    "    print('---------------------------',file=f1)         \n",
    "    f1.close()"
   ]
  },
  {
   "cell_type": "code",
   "execution_count": null,
   "metadata": {},
   "outputs": [],
   "source": []
  }
 ],
 "metadata": {
  "kernelspec": {
   "display_name": "Python 3",
   "language": "python",
   "name": "python3"
  },
  "language_info": {
   "codemirror_mode": {
    "name": "ipython",
    "version": 3
   },
   "file_extension": ".py",
   "mimetype": "text/x-python",
   "name": "python",
   "nbconvert_exporter": "python",
   "pygments_lexer": "ipython3",
   "version": "3.6.8"
  },
  "varInspector": {
   "cols": {
    "lenName": 16,
    "lenType": 16,
    "lenVar": 40
   },
   "kernels_config": {
    "python": {
     "delete_cmd_postfix": "",
     "delete_cmd_prefix": "del ",
     "library": "var_list.py",
     "varRefreshCmd": "print(var_dic_list())"
    },
    "r": {
     "delete_cmd_postfix": ") ",
     "delete_cmd_prefix": "rm(",
     "library": "var_list.r",
     "varRefreshCmd": "cat(var_dic_list()) "
    }
   },
   "types_to_exclude": [
    "module",
    "function",
    "builtin_function_or_method",
    "instance",
    "_Feature"
   ],
   "window_display": false
  }
 },
 "nbformat": 4,
 "nbformat_minor": 2
}
