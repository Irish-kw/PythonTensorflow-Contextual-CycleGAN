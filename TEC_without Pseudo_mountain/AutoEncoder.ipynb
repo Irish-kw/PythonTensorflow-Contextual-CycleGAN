{
 "cells": [
  {
   "cell_type": "code",
   "execution_count": null,
   "metadata": {
    "ExecuteTime": {
     "end_time": "2020-11-26T15:38:24.996981Z",
     "start_time": "2020-11-26T15:38:24.970560Z"
    }
   },
   "outputs": [],
   "source": [
    "from tensorflow.keras.models import Model,load_model\n",
    "from tensorflow.keras.layers import Conv2D,Conv2DTranspose,Activation\n",
    "from tensorflow.keras.layers import Concatenate,Dense,MaxPooling2D,UpSampling2D,Input\n",
    "from tensorflow.keras.callbacks import EarlyStopping,ReduceLROnPlateau,ModelCheckpoint\n",
    "from tensorflow.keras import backend as K\n",
    "\n",
    "import tensorflow.keras as keras\n",
    "import tensorflow.compat.v1 as tf\n",
    "import numpy as np\n",
    "import warnings\n",
    "import os\n",
    "import glob\n",
    "\n",
    "warnings.filterwarnings('ignore')\n",
    "os.environ[\"CUDA_VISIBLE_DEVICES\"] = \"1\"\n",
    "\n",
    "sess = tf.Session(config=tf.ConfigProto(gpu_options=tf.GPUOptions(allow_growth=True)))\n",
    "tf.config.optimizer.set_jit(True)"
   ]
  },
  {
   "cell_type": "code",
   "execution_count": null,
   "metadata": {
    "ExecuteTime": {
     "end_time": "2020-11-26T15:39:40.959030Z",
     "start_time": "2020-11-26T15:39:09.216866Z"
    },
    "scrolled": true
   },
   "outputs": [],
   "source": [
    "home_path = '/data1/home/weisting/CycleGan/Experiment5/Fill_Input_Version/Target_Embedding/Fill_TE_Data/'\n",
    "Air_train = np.load(home_path+'AIR_Align_Kriging_Training_del.npy', mmap_mode='r')\n",
    "Air_test =  np.load(home_path+'AIR_Align_Kriging_Testing_del.npy', mmap_mode='r')\n",
    "\n",
    "Sat_train = np.load(home_path+'SAT_Align_fill_Training_del.npy', mmap_mode='r')\n",
    "Sat_test = np.load(home_path+'SAT_Align_fill_Testing_del.npy', mmap_mode='r')\n",
    "\n",
    "train = np.concatenate([Air_train,Sat_train])\n",
    "test = np.concatenate([Air_test,Sat_test])\n",
    "\n",
    "print(train.shape, test.shape)"
   ]
  },
  {
   "cell_type": "code",
   "execution_count": null,
   "metadata": {
    "ExecuteTime": {
     "end_time": "2020-11-26T15:39:56.832127Z",
     "start_time": "2020-11-26T15:39:56.816128Z"
    }
   },
   "outputs": [],
   "source": [
    "def Encoder(channel_number):\n",
    "    input_img = Input(shape=(348,204,1))\n",
    "    e1 = Conv2D(16, (3, 3), activation='tanh', padding='same')(input_img)\n",
    "    e2 = MaxPooling2D((2, 2), padding='same')(e1)\n",
    "    e3 = Conv2D(8, (3, 3), activation='tanh', padding='same')(e2)\n",
    "    e4 = MaxPooling2D((2, 2), padding='same')(e3)\n",
    "    e5 = Conv2D(channel_number, (3, 3), activation='tanh', padding='same')(e4)\n",
    "    e6 = MaxPooling2D((2, 2), padding='same')(e5)\n",
    "    e7 = Activation('tanh')(e6)\n",
    "    return Model(input_img, e7)\n",
    "\n",
    "def Decoder(channel_number):\n",
    "    input_img = Input(shape=(44,26,channel_number))\n",
    "    d1 = Conv2D(8, (3, 3), activation='relu', padding='same')(input_img)\n",
    "    d2 = UpSampling2D((2, 2))(d1)\n",
    "    d3 = Conv2D(16, (3, 3), activation='relu', padding='same')(d2)\n",
    "    d4 = UpSampling2D((2, 2))(d3)\n",
    "    d5 = Conv2D(32, (3, 3), activation='relu')(d4)\n",
    "    d6 = UpSampling2D((2, 2))(d5)\n",
    "    d7 = Conv2D(1, (3, 3), activation='relu', padding='same')(d6)\n",
    "    return Model(input_img, d7)"
   ]
  },
  {
   "cell_type": "code",
   "execution_count": null,
   "metadata": {
    "ExecuteTime": {
     "end_time": "2020-11-26T16:44:34.703694Z",
     "start_time": "2020-11-26T15:39:58.087899Z"
    },
    "scrolled": true
   },
   "outputs": [],
   "source": [
    "channel_number = 6\n",
    "path = 'AE_result'\n",
    "if not os.path.exists(path):os.makedirs(path)\n",
    "K.clear_session()\n",
    "x = Input(shape=(348, 204, 1))\n",
    "opt = keras.optimizers.Adam(learning_rate=0.0005)\n",
    "\n",
    "Encoder_model = Encoder(channel_number)\n",
    "Decoder_model = Decoder(channel_number)\n",
    "\n",
    "Autoencoder = Model(x,Decoder_model(Encoder_model(x)))\n",
    "Autoencoder.compile(loss='mse',optimizer=opt)\n",
    "\n",
    "filepath=path+'/{epoch:04d}-train_{loss:f}-test_{val_loss:f}.h5'\n",
    "earlystopper = EarlyStopping(monitor='val_loss', patience=50, verbose=1, min_delta=0.05)\n",
    "reduce_lr = ReduceLROnPlateau(monitor='val_loss', factor = 0.2, patience=15, min_lr = 2e-7, verbose = 1)                   \n",
    "checkpoint = ModelCheckpoint(filepath, monitor='val_loss', save_best_only=True, mode='auto')\n",
    "callbacks_list = [earlystopper, reduce_lr, checkpoint]\n",
    "\n",
    "history = Autoencoder.fit(train,train,\n",
    "                          validation_data=(test,test),\n",
    "                          batch_size=32, epochs=2000,verbose=1,callbacks=callbacks_list)\n",
    "\n",
    "del Encoder_model\n",
    "del Decoder_model\n",
    "del Autoencoder"
   ]
  },
  {
   "cell_type": "code",
   "execution_count": null,
   "metadata": {
    "ExecuteTime": {
     "end_time": "2020-11-26T16:58:20.000814Z",
     "start_time": "2020-11-26T16:58:04.421179Z"
    },
    "scrolled": true
   },
   "outputs": [],
   "source": [
    "def glob_all(dir_path):\n",
    "    file_list = glob.glob(os.path.join(dir_path,'*.h5'))\n",
    "    inside = os.listdir(dir_path)\n",
    "    for dir_name in inside:\n",
    "        if os.path.isdir(os.path.join(dir_path,dir_name)):\n",
    "            file_list.extend(glob_all(os.path.join(dir_path,dir_name)))\n",
    "    return file_list\n",
    "\n",
    "def MSE(y, y_pred):\n",
    "    return np.round(np.mean((y - y_pred)**2),4)\n",
    "\n",
    "Encoder_model = Encoder(channel_number)\n",
    "Decoder_model = Decoder(channel_number)\n",
    "Autoencoder = Model(x,Decoder_model(Encoder_model(x)))\n",
    "\n",
    "Autoencoder.load_weights(glob_all('AE_result')[0])\n",
    "np.save('Unpair_train_Code6.npy',Encoder_model.predict(train,batch_size=4,verbose=1))"
   ]
  }
 ],
 "metadata": {
  "kernelspec": {
   "display_name": "Python 3",
   "language": "python",
   "name": "python3"
  },
  "language_info": {
   "codemirror_mode": {
    "name": "ipython",
    "version": 3
   },
   "file_extension": ".py",
   "mimetype": "text/x-python",
   "name": "python",
   "nbconvert_exporter": "python",
   "pygments_lexer": "ipython3",
   "version": "3.6.8"
  },
  "varInspector": {
   "cols": {
    "lenName": 16,
    "lenType": 16,
    "lenVar": 40
   },
   "kernels_config": {
    "python": {
     "delete_cmd_postfix": "",
     "delete_cmd_prefix": "del ",
     "library": "var_list.py",
     "varRefreshCmd": "print(var_dic_list())"
    },
    "r": {
     "delete_cmd_postfix": ") ",
     "delete_cmd_prefix": "rm(",
     "library": "var_list.r",
     "varRefreshCmd": "cat(var_dic_list()) "
    }
   },
   "types_to_exclude": [
    "module",
    "function",
    "builtin_function_or_method",
    "instance",
    "_Feature"
   ],
   "window_display": false
  }
 },
 "nbformat": 4,
 "nbformat_minor": 2
}
