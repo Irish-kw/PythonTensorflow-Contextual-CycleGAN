{
 "cells": [
  {
   "cell_type": "code",
   "execution_count": null,
   "metadata": {
    "ExecuteTime": {
     "end_time": "2021-01-11T19:15:42.359047Z",
     "start_time": "2021-01-11T19:15:34.310944Z"
    }
   },
   "outputs": [],
   "source": [
    "from tensorflow.keras.models import *\n",
    "from tensorflow.keras.layers import *\n",
    "from __M1model__ import glob_all, define_generator, define_discriminator\n",
    "from __M1model__ import define_composite_model_A2B, define_composite_model_B2A, train\n",
    "\n",
    "from __M1_TargetEmbedding__ import Encoder, Decoder, M1_1_AEModel\n",
    "from tensorflow.keras import backend as K\n",
    "from __init__ import glob_all\n",
    "\n",
    "import warnings\n",
    "warnings.filterwarnings('ignore')\n",
    "import logging\n",
    "logging.getLogger().disabled = True\n",
    "\n",
    "import pandas as pd\n",
    "import numpy as np\n",
    "import tensorflow.compat.v1 as tf\n",
    "import os\n",
    "\n",
    "os.environ[\"CUDA_VISIBLE_DEVICES\"] = \"0\"\n",
    "tf.config.optimizer.set_jit(True)"
   ]
  },
  {
   "cell_type": "code",
   "execution_count": null,
   "metadata": {
    "ExecuteTime": {
     "end_time": "2021-01-11T19:16:13.007119Z",
     "start_time": "2021-01-11T19:15:42.361857Z"
    },
    "scrolled": true
   },
   "outputs": [],
   "source": [
    "channel_number = 6; resnet_n = 9 ; epochs = 100; batch = 1\n",
    "\n",
    "dataA_norm = np.load('new_dataA_norm.npy')\n",
    "dataB_norm = np.load('new_dataB_norm.npy')\n",
    "print('Loaded', dataA_norm.shape, dataB_norm.shape)\n",
    "\n",
    "EPA73_testing_PM25 = np.load('EPA73_Testing_348X204_PM25.npy', mmap_mode='r')\n",
    "\n",
    "station_coordinate = pd.read_csv('RandomTesting/station_coordinate')\n",
    "extract5_list = np.load('RandomTesting/extract5_list.npy')\n",
    "extract10_list = np.load('RandomTesting/extract10_list.npy')\n",
    "extract15_list = np.load('RandomTesting/extract15_list.npy')\n",
    "extract20_list = np.load('RandomTesting/extract20_list.npy')\n",
    "\n",
    "ex20_KNNhalf = np.load('ex20_KNN_half.npy', mmap_mode='r')\n",
    "ex20_KNN_norm = np.load('ex20_KNN_norm.npy', mmap_mode='r')\n",
    "\n",
    "model_path = 'M1_1_Graph_RMSprop_Res'+str(resnet_n)+'_CycleGan/'\n",
    "if not os.path.exists(model_path+'result/'):os.makedirs(model_path+'result/')"
   ]
  },
  {
   "cell_type": "code",
   "execution_count": null,
   "metadata": {
    "ExecuteTime": {
     "end_time": "2021-01-15T06:40:10.272301Z",
     "start_time": "2021-01-11T19:16:13.010397Z"
    },
    "scrolled": true
   },
   "outputs": [],
   "source": [
    "K.clear_session()\n",
    "image_shape = dataB_norm[0].shape\n",
    "\n",
    "TE_Encoder_model = Encoder(channel_number)\n",
    "TE_Decoder_model = Decoder(channel_number)\n",
    "x = Input(shape=(348, 204, 1))\n",
    "TE_Autoencoder = Model(x,TE_Decoder_model(TE_Encoder_model(x)))\n",
    "TE_weight = glob_all('Unpair_Target_Embedding_AIRSAT_channel'+str(channel_number)+'_K3')[0]\n",
    "\n",
    "TE_Autoencoder.load_weights(TE_weight)\n",
    "for layer in TE_Autoencoder.layers:layer.trainable = False\n",
    "    \n",
    "M1_1_Inmodel = M1_1_AEModel(channel_number)\n",
    "M1_1_Outmodel = M1_1_AEModel(channel_number)\n",
    "g_model_AtoB = Model(x,M1_1_Outmodel(TE_Autoencoder(M1_1_Inmodel(x))))\n",
    "print('generator: A -> B')\n",
    "\n",
    "g_model_BtoA = define_generator(image_shape,resnet_n)\n",
    "print('generator: B -> A')\n",
    "d_model_A = define_discriminator(image_shape, d_lr = 5e-5)\n",
    "print('discriminator: A -> [real/fake]')\n",
    "d_model_B = define_discriminator(image_shape, d_lr = 5e-5)\n",
    "print('discriminator: B -> [real/fake]')\n",
    "c_model_AtoB = define_composite_model_A2B(g_model_AtoB, d_model_B, g_model_BtoA, image_shape, g_lr = 1e-3)\n",
    "print('composite: A -> B -> [real/fake, A]')\n",
    "c_model_BtoA = define_composite_model_B2A(g_model_BtoA, d_model_A, g_model_AtoB, image_shape, g_lr = 1e-3)\n",
    "print('composite: B -> A -> [real/fake, B]')\n",
    "\n",
    "train(d_model_A, d_model_B, g_model_AtoB, g_model_BtoA, c_model_AtoB, c_model_BtoA,\n",
    "      dataA_norm, dataB_norm, model_path, EPA73_testing_PM25,\n",
    "      station_coordinate, extract5_list, extract10_list, extract15_list, extract20_list, \n",
    "      ex20_KNN_norm, ex20_KNNhalf, n_epochs=epochs, n_batch=batch, save_epochs = 1)\n",
    "\n",
    "print('train models done')"
   ]
  }
 ],
 "metadata": {
  "kernelspec": {
   "display_name": "Python 3",
   "language": "python",
   "name": "python3"
  },
  "language_info": {
   "codemirror_mode": {
    "name": "ipython",
    "version": 3
   },
   "file_extension": ".py",
   "mimetype": "text/x-python",
   "name": "python",
   "nbconvert_exporter": "python",
   "pygments_lexer": "ipython3",
   "version": "3.6.8"
  },
  "varInspector": {
   "cols": {
    "lenName": 16,
    "lenType": 16,
    "lenVar": 40
   },
   "kernels_config": {
    "python": {
     "delete_cmd_postfix": "",
     "delete_cmd_prefix": "del ",
     "library": "var_list.py",
     "varRefreshCmd": "print(var_dic_list())"
    },
    "r": {
     "delete_cmd_postfix": ") ",
     "delete_cmd_prefix": "rm(",
     "library": "var_list.r",
     "varRefreshCmd": "cat(var_dic_list()) "
    }
   },
   "types_to_exclude": [
    "module",
    "function",
    "builtin_function_or_method",
    "instance",
    "_Feature"
   ],
   "window_display": false
  }
 },
 "nbformat": 4,
 "nbformat_minor": 2
}
