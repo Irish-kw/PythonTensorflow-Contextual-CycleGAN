{
 "cells": [
  {
   "cell_type": "code",
   "execution_count": 1,
   "metadata": {
    "ExecuteTime": {
     "end_time": "2020-12-25T22:23:07.778935Z",
     "start_time": "2020-12-25T22:22:59.289641Z"
    }
   },
   "outputs": [],
   "source": [
    "from __UnpairAIRSATBIG_TFA__ import define_discriminator, define_discriminator_content, define_generator, define_generator_content\n",
    "from __UnpairAIRSATBIG_TFA__ import define_composite_model_A2B, define_composite_model_B2A, Encoder, Decoder, train\n",
    "from __init__ import glob_all\n",
    "from tensorflow.keras import backend as K\n",
    "from tensorflow.keras.models import *\n",
    "from tensorflow.keras.layers import *\n",
    "import warnings\n",
    "warnings.filterwarnings('ignore')\n",
    "import logging\n",
    "logging.getLogger().disabled = True\n",
    "\n",
    "import pandas as pd\n",
    "import numpy as np\n",
    "import tensorflow.compat.v1 as tf\n",
    "import os\n",
    "\n",
    "os.environ[\"CUDA_VISIBLE_DEVICES\"] = \"1\"\n",
    "gpu_options = tf.GPUOptions(allow_growth=True)\n",
    "sess = tf.Session(config=tf.ConfigProto(gpu_options=gpu_options))\n",
    "tf.config.optimizer.set_jit(True)"
   ]
  },
  {
   "cell_type": "code",
   "execution_count": 2,
   "metadata": {
    "ExecuteTime": {
     "end_time": "2020-12-25T22:23:26.048488Z",
     "start_time": "2020-12-25T22:23:07.783105Z"
    }
   },
   "outputs": [
    {
     "name": "stdout",
     "output_type": "stream",
     "text": [
      "Loaded (3194, 348, 204, 1) (3194, 44, 26, 6)\n"
     ]
    }
   ],
   "source": [
    "channel = 6; resnet_n = 9; lr = 1e-3 ; epochs = 300; batch = 1\n",
    "\n",
    "AIR73_train = np.load('AIR_DomainA_Training.npy', mmap_mode='r')\n",
    "SAT73_train = np.load('SAT_DomainA_Training.npy', mmap_mode='r')\n",
    "dataA = np.concatenate([AIR73_train,SAT73_train])\n",
    "dataB = np.load('AIRSAT_DomainB_Code'+str(channel)+'_Training.npy', mmap_mode='r')\n",
    "print('Loaded', dataA.shape, dataB.shape)\n",
    "\n",
    "EPA73_testing_PM25 = np.load('EPA73_Testing_348X204_PM25.npy', mmap_mode='r')[:3000]\n",
    "\n",
    "station_coordinate = pd.read_csv('RandomTesting/station_coordinate')\n",
    "extract5_list = np.load('RandomTesting/extract5_list.npy')\n",
    "extract10_list = np.load('RandomTesting/extract10_list.npy')\n",
    "extract15_list = np.load('RandomTesting/extract15_list.npy')\n",
    "extract20_list = np.load('RandomTesting/extract20_list.npy')\n",
    "ex20_KNN = np.load('EPA73_testing_KNN3fill_ex20.npy', mmap_mode='r')\n",
    "\n",
    "model_path = '3TFA_CWBEPA_BIGD_Unpair_TE_CycleGan_AIRSAT_RMSprop_Res'+str(resnet_n)+'_Channel'+str(channel)+'_Lr:'+str(lr)+'/'\n",
    "if not os.path.exists(model_path+'result/'):os.makedirs(model_path+'result/')"
   ]
  },
  {
   "cell_type": "code",
   "execution_count": 3,
   "metadata": {
    "ExecuteTime": {
     "end_time": "2020-12-25T22:23:38.977235Z",
     "start_time": "2020-12-25T22:23:26.056518Z"
    }
   },
   "outputs": [],
   "source": [
    "Train_Rain = np.concatenate([np.load('../CWB/CWBEPA_Content_RAIN_code_Training_K3.npy'),\n",
    "                             np.load('../CWB/CWBEPA_Content_RAIN_code_Training_K3.npy')])\n",
    "\n",
    "Train_Rh = np.concatenate([np.load('../CWB/CWBEPA_Content_RH_code_Training_K3.npy'),\n",
    "                             np.load('../CWB/CWBEPA_Content_RH_code_Training_K3.npy')])\n",
    "\n",
    "Train_Temp = np.concatenate([np.load('../CWB/CWBEPA_Content_TEMP_code_Training_K3.npy'),\n",
    "                             np.load('../CWB/CWBEPA_Content_TEMP_code_Training_K3.npy')])\n",
    "\n",
    "Train_Times = np.concatenate([np.load('Content_Times_Code_Training.npy'),\n",
    "                              np.load('Content_Times_Code_Training.npy')])\n",
    "\n",
    "Train_Direc = np.concatenate([np.load('../CWB/CWBEPA_Content_WIND_DIREC_code_Training_K3.npy'),\n",
    "                             np.load('../CWB/CWBEPA_Content_WIND_DIREC_code_Training_K3.npy')])\n",
    "\n",
    "Train_Speed = np.concatenate([np.load('../CWB/CWBEPA_Content_WIND_SPEED_code_Training_K3.npy'),\n",
    "                             np.load('../CWB/CWBEPA_Content_WIND_SPEED_code_Training_K3.npy')])\n",
    "\n",
    "Test_Rain = np.load('../CWB/CWBEPA_Content_RAIN_code_Testing_K3.npy')\n",
    "Test_Rh = np.load('../CWB/CWBEPA_Content_RH_code_Testing_K3.npy')\n",
    "Test_Temp = np.load('../CWB/CWBEPA_Content_TEMP_code_Testing_K3.npy')\n",
    "Test_Times = np.load('Content_Times_Code_Testing.npy')\n",
    "Test_Direc = np.load('../CWB/CWBEPA_Content_WIND_DIREC_code_Testing_K3.npy')\n",
    "Test_Speed = np.load('../CWB/CWBEPA_Content_WIND_SPEED_code_Testing_K3.npy')"
   ]
  },
  {
   "cell_type": "code",
   "execution_count": 4,
   "metadata": {
    "ExecuteTime": {
     "end_time": "2020-12-25T22:23:41.495108Z",
     "start_time": "2020-12-25T22:23:38.979790Z"
    },
    "scrolled": false
   },
   "outputs": [],
   "source": [
    "x = Input(shape=(348, 204, 1))\n",
    "AIRSAT_Autoencoder_weight = glob_all('Unpair_Target_Embedding_AIRSAT_channel'+str(channel))[0]\n",
    "AIRSAT_Encoder_model = Encoder(channel);AIRSAT_Decoder_model = Decoder(channel)\n",
    "AIRSAT_Autoencoder = Model(x,AIRSAT_Decoder_model(AIRSAT_Encoder_model(x)))\n",
    "AIRSAT_Autoencoder.load_weights(AIRSAT_Autoencoder_weight)\n",
    "for layer in AIRSAT_Encoder_model.layers:layer.trainable = False\n",
    "for layer in AIRSAT_Decoder_model.layers:layer.trainable = False\n",
    "for layer in AIRSAT_Autoencoder.layers:layer.trainable = False"
   ]
  },
  {
   "cell_type": "code",
   "execution_count": null,
   "metadata": {
    "ExecuteTime": {
     "end_time": "2021-01-04T06:00:45.756658Z",
     "start_time": "2020-12-25T22:23:41.500900Z"
    },
    "scrolled": true
   },
   "outputs": [],
   "source": [
    "K.clear_session()\n",
    "image_shape = dataB[0].shape\n",
    "g_model_AtoB = define_generator_content(image_shape,channel,resnet_n)\n",
    "print('generator: A -> B')\n",
    "g_model_BtoA = define_generator(image_shape,channel,resnet_n)\n",
    "print('generator: B -> A')\n",
    "d_model_A = define_discriminator(image_shape, d_lr=5e-5)\n",
    "print('discriminator: A -> [real/fake]')\n",
    "d_model_B = define_discriminator_content(image_shape, d_lr=5e-5)\n",
    "print('discriminator: B -> [real/fake]')\n",
    "c_model_AtoB = define_composite_model_A2B(g_model_AtoB, d_model_B, g_model_BtoA, image_shape, g_lr=lr)\n",
    "print('composite: A -> B -> [real/fake, A]')\n",
    "c_model_BtoA = define_composite_model_B2A(g_model_BtoA, d_model_A, g_model_AtoB, image_shape, g_lr=lr)\n",
    "print('composite: B -> A -> [real/fake, B]')\n",
    "\n",
    "train(d_model_A, d_model_B, g_model_AtoB, g_model_BtoA, c_model_AtoB, c_model_BtoA,\n",
    "      AIRSAT_Encoder_model, AIRSAT_Decoder_model, dataA, dataB,\n",
    "      Train_Rain,Train_Rh,Train_Temp,Train_Times,Train_Direc,Train_Speed,\n",
    "      Test_Rain,Test_Rh,Test_Temp,Test_Times,Test_Direc,Test_Speed,\n",
    "      model_path, EPA73_testing_PM25, station_coordinate, extract5_list, extract10_list, extract15_list, \n",
    "      extract20_list, ex20_KNN, n_epochs=epochs, n_batch=batch, save_epochs = 1, channel = channel)\n",
    "\n",
    "print('train models done')"
   ]
  },
  {
   "cell_type": "code",
   "execution_count": null,
   "metadata": {},
   "outputs": [],
   "source": []
  }
 ],
 "metadata": {
  "kernelspec": {
   "display_name": "Python 3",
   "language": "python",
   "name": "python3"
  },
  "language_info": {
   "codemirror_mode": {
    "name": "ipython",
    "version": 3
   },
   "file_extension": ".py",
   "mimetype": "text/x-python",
   "name": "python",
   "nbconvert_exporter": "python",
   "pygments_lexer": "ipython3",
   "version": "3.6.8"
  },
  "varInspector": {
   "cols": {
    "lenName": 16,
    "lenType": 16,
    "lenVar": 40
   },
   "kernels_config": {
    "python": {
     "delete_cmd_postfix": "",
     "delete_cmd_prefix": "del ",
     "library": "var_list.py",
     "varRefreshCmd": "print(var_dic_list())"
    },
    "r": {
     "delete_cmd_postfix": ") ",
     "delete_cmd_prefix": "rm(",
     "library": "var_list.r",
     "varRefreshCmd": "cat(var_dic_list()) "
    }
   },
   "types_to_exclude": [
    "module",
    "function",
    "builtin_function_or_method",
    "instance",
    "_Feature"
   ],
   "window_display": false
  }
 },
 "nbformat": 4,
 "nbformat_minor": 2
}
