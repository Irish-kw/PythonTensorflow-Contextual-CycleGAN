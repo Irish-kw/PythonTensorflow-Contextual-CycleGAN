{
 "cells": [
  {
   "cell_type": "code",
   "execution_count": 1,
   "metadata": {
    "ExecuteTime": {
     "end_time": "2021-01-05T05:14:47.774766Z",
     "start_time": "2021-01-05T05:14:37.279375Z"
    }
   },
   "outputs": [],
   "source": [
    "from __modelUnpair__ import Encoder, Decoder, glob_all\n",
    "from __modelUnpair__ import define_discriminator, define_generator, define_composite_model, train\n",
    "from tensorflow.keras import backend as K\n",
    "from tensorflow.keras.models import Model,load_model\n",
    "from tensorflow.keras.layers import *\n",
    "import warnings\n",
    "warnings.filterwarnings('ignore')\n",
    "import logging\n",
    "logging.getLogger().disabled = True\n",
    "\n",
    "import pandas as pd\n",
    "import numpy as np\n",
    "import tensorflow.compat.v1 as tf\n",
    "import os\n",
    "\n",
    "os.environ[\"CUDA_VISIBLE_DEVICES\"] = \"1\"\n",
    "tf.config.optimizer.set_jit(True)"
   ]
  },
  {
   "cell_type": "code",
   "execution_count": 3,
   "metadata": {
    "ExecuteTime": {
     "end_time": "2021-01-05T05:15:05.257049Z",
     "start_time": "2021-01-05T05:14:52.131541Z"
    }
   },
   "outputs": [
    {
     "name": "stdout",
     "output_type": "stream",
     "text": [
      "Loaded (3076, 348, 204, 1) (3076, 44, 26, 6)\n"
     ]
    }
   ],
   "source": [
    "channel = 6; q = 1; resnet_n = 9; d_lr=5e-6; g_lr = 1e-3; epochs = 100; batch = 1\n",
    "dataA1 = np.load('AIR73_Align_KNN_Training_del.npy', mmap_mode='r')\n",
    "dataA2 = np.load('SAT73_Align_KNN_Training_del.npy', mmap_mode='r')\n",
    "\n",
    "dataA = np.concatenate([dataA1,dataA2])\n",
    "dataB= np.load('Unpair_train_Code'+str(channel)+'.npy', mmap_mode='r')\n",
    "\n",
    "\n",
    "print('Loaded', dataA.shape, dataB.shape)\n",
    "\n",
    "EPA73_test_pm25 = np.load('EPA73_testing_PM25.npy', mmap_mode='r')\n",
    "\n",
    "station_coordinate = pd.read_csv('RandomTesting/station_coordinate')\n",
    "ex5_lst = np.load('RandomTesting/extract5_list.npy')\n",
    "ex10_lst = np.load('RandomTesting/extract10_list.npy')\n",
    "ex15_lst = np.load('RandomTesting/extract15_list.npy')\n",
    "ex20_lst = np.load('RandomTesting/extract20_list.npy')\n",
    "\n",
    "ex5_KNN = np.load('EPA73_testing_KNN3fill_ex5.npy', mmap_mode='r')\n",
    "ex10_KNN = np.load('EPA73_testing_KNN3fill_ex10.npy', mmap_mode='r')\n",
    "ex15_KNN = np.load('EPA73_testing_KNN3fill_ex15.npy', mmap_mode='r')\n",
    "ex20_KNN = np.load('EPA73_testing_KNN3fill_ex20.npy', mmap_mode='r')\n",
    "\n",
    "model_path = 'TEC_result/'\n",
    "if not os.path.exists(model_path):os.makedirs(model_path)"
   ]
  },
  {
   "cell_type": "code",
   "execution_count": 4,
   "metadata": {
    "ExecuteTime": {
     "end_time": "2021-01-05T05:15:27.590998Z",
     "start_time": "2021-01-05T05:15:17.475600Z"
    }
   },
   "outputs": [],
   "source": [
    "x = Input(shape=(348, 204, 1))\n",
    "Unpair_Autoencoder_weight = glob_all('TE_result/')[0]\n",
    "Unpair_Encoder_model = Encoder(channel);Unpair_Decoder_model = Decoder(channel)\n",
    "Unpair_Autoencoder = Model(x,Unpair_Decoder_model(Unpair_Encoder_model(x)))\n",
    "Unpair_Autoencoder.load_weights(Unpair_Autoencoder_weight)\n",
    "for layer in Unpair_Encoder_model.layers:layer.trainable = False\n",
    "for layer in Unpair_Decoder_model.layers:layer.trainable = False\n",
    "for layer in Unpair_Autoencoder.layers:layer.trainable = False"
   ]
  },
  {
   "cell_type": "code",
   "execution_count": null,
   "metadata": {
    "ExecuteTime": {
     "end_time": "2020-12-04T04:24:54.892825Z",
     "start_time": "2020-12-01T17:36:40.595677Z"
    },
    "scrolled": true
   },
   "outputs": [],
   "source": [
    "K.clear_session()\n",
    "image_shape = dataB[0].shape\n",
    "g_model_AtoB = define_generator(image_shape, channel, resnet_n, q)\n",
    "print('generator: A -> B')\n",
    "g_model_BtoA = define_generator(image_shape, channel, resnet_n, q)\n",
    "print('generator: B -> A')\n",
    "d_model_A = define_discriminator(image_shape, q, d_lr)\n",
    "print('discriminator: A -> [real/fake]')\n",
    "d_model_B = define_discriminator(image_shape, q, d_lr)\n",
    "print('discriminator: B -> [real/fake]')\n",
    "c_model_AtoB = define_composite_model(g_model_AtoB, d_model_B, g_model_BtoA, image_shape, g_lr)\n",
    "print('composite: A -> B -> [real/fake, A]')\n",
    "c_model_BtoA = define_composite_model(g_model_BtoA, d_model_A, g_model_AtoB, image_shape, g_lr)\n",
    "print('composite: B -> A -> [real/fake, B]')\n",
    "\n",
    "train(d_model_A, d_model_B, g_model_AtoB, g_model_BtoA, c_model_AtoB, c_model_BtoA,\n",
    "      Unpair_Encoder_model, Unpair_Decoder_model, dataA, dataB, model_path,\n",
    "      EPA73_test_pm25, station_coordinate, extract5_list, extract10_list, extract15_list, extract20_list, ex20_KNN,\n",
    "      n_epochs=epochs, n_batch=batch, save_epochs = 1, channel = channel)\n",
    "\n",
    "print('train models done')"
   ]
  }
 ],
 "metadata": {
  "kernelspec": {
   "display_name": "Python 3",
   "language": "python",
   "name": "python3"
  },
  "language_info": {
   "codemirror_mode": {
    "name": "ipython",
    "version": 3
   },
   "file_extension": ".py",
   "mimetype": "text/x-python",
   "name": "python",
   "nbconvert_exporter": "python",
   "pygments_lexer": "ipython3",
   "version": "3.6.8"
  },
  "varInspector": {
   "cols": {
    "lenName": 16,
    "lenType": 16,
    "lenVar": 40
   },
   "kernels_config": {
    "python": {
     "delete_cmd_postfix": "",
     "delete_cmd_prefix": "del ",
     "library": "var_list.py",
     "varRefreshCmd": "print(var_dic_list())"
    },
    "r": {
     "delete_cmd_postfix": ") ",
     "delete_cmd_prefix": "rm(",
     "library": "var_list.r",
     "varRefreshCmd": "cat(var_dic_list()) "
    }
   },
   "types_to_exclude": [
    "module",
    "function",
    "builtin_function_or_method",
    "instance",
    "_Feature"
   ],
   "window_display": false
  }
 },
 "nbformat": 4,
 "nbformat_minor": 2
}
