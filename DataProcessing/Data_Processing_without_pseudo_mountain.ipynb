{
 "cells": [
  {
   "cell_type": "code",
   "execution_count": null,
   "metadata": {
    "ExecuteTime": {
     "start_time": "2021-02-08T13:42:14.593Z"
    },
    "scrolled": true
   },
   "outputs": [],
   "source": [
    "from RandomTesting.__RandomTesting__ import Random_Testing, calculate_extract_loss\n",
    "from tqdm import tqdm\n",
    "from sklearn import neighbors\n",
    "from pykrige.ok import OrdinaryKriging\n",
    "import tensorflow.compat.v1 as tf\n",
    "import matplotlib.pyplot as plt\n",
    "import numpy as np\n",
    "import warnings\n",
    "import os\n",
    "import pandas as pd\n",
    "import gc\n",
    "\n",
    "\n",
    "warnings.filterwarnings('ignore')\n",
    "os.environ[\"CUDA_VISIBLE_DEVICES\"] = \"\"\n",
    "tf.config.optimizer.set_jit(True)"
   ]
  },
  {
   "cell_type": "markdown",
   "metadata": {
    "heading_collapsed": true
   },
   "source": [
    "# AIR_Kriging_Align"
   ]
  },
  {
   "cell_type": "code",
   "execution_count": null,
   "metadata": {
    "ExecuteTime": {
     "end_time": "2020-11-25T10:07:46.424033Z",
     "start_time": "2020-11-25T10:07:45.914923Z"
    },
    "hidden": true,
    "scrolled": false
   },
   "outputs": [],
   "source": [
    "air1718 = pd.read_csv('air-201718.csv')\n",
    "air1718_arr = air1718[7075495:]\n",
    "air19 = pd.read_csv('air-2019.csv')\n",
    "air171819_arr = np.concatenate([air1718_arr,air19])\n",
    "\n",
    "first_lst = []\n",
    "count=0\n",
    "for data_nb in tqdm(range(len(air171819_arr))):\n",
    "    if (air171819_arr[data_nb][0][-8:] == '08:00:00') or (air171819_arr[data_nb][0][-8:] == '20:00:00'):\n",
    "        count+=1\n",
    "        first_lst.append(air171819_arr[data_nb])\n",
    "print(np.array(first_lst).shape)\n",
    "df = pd.DataFrame(data=np.array(first_lst),columns=['dt',\"lat\", \"lon\",'pm25','pm10','temperature','humidity'])\n",
    "df.to_csv('Align_AIR_Training.csv',index=False)\n",
    "\n",
    "df = pd.read_csv('Align_AIR_Training.csv')\n",
    "\n",
    "dts=df.dt.unique()\n",
    "\n",
    "air_kriging = []\n",
    "grid_lon = np.array(np.arange(204),dtype='float32')\n",
    "grid_lat = np.array(np.arange(348),dtype='float32') \n",
    "\n",
    "for dt in tqdm(dts[:]):\n",
    "    one_dt=df[df.dt==dt]\n",
    "\n",
    "    x_train = one_dt[['lat', 'lon']]\n",
    "    y_train = one_dt.iloc[:, 3:4] #pm2.5\n",
    "\n",
    "    matrix_lon_list = [];matrix_lat_list = []; value_list=[]\n",
    "    for i in range(len(x_train)):\n",
    "        if (np.array(x_train)[i][0] > 21.87) and (np.array(x_train)[i][0] < 25.35) and (np.array(x_train)[i][1] > 120) and (np.array(x_train)[i][1] < 122.04) and (np.array(y_train)[i][0] <=300):\n",
    "            matrix_lon = int(round((np.array(x_train)[i][1]-120)/((122.04-120)/204),0))\n",
    "            matrix_lat = int(round((np.array(x_train)[i][0]-21.87)/((25.35-21.87)/348),0))\n",
    "            matrix_lon_list.append(matrix_lon)\n",
    "            matrix_lat_list.append(matrix_lat)\n",
    "            value_list.append(np.array(y_train)[i][0])\n",
    "\n",
    "    matrix_lon_array = np.array(matrix_lon_list,dtype='float32')\n",
    "    matrix_lat_array = np.array(matrix_lat_list,dtype='float32')       \n",
    "    train_x = np.array(np.vstack((matrix_lon_array,matrix_lat_array)).T,dtype='float32')    \n",
    "    train_y = np.array(value_list,dtype='float32')\n",
    "\n",
    "\n",
    "    OK = OrdinaryKriging(train_x[:,0], train_x[:,1], train_y, variogram_model='linear',\n",
    "                         verbose=False, nlags=50, weight=True, exact_values=False,pseudo_inv=True)\n",
    "\n",
    "    values, ss1 = OK.execute('grid', grid_lon, grid_lat)\n",
    "    air_kriging.append(values)\n",
    "\n",
    "    plt.imshow(values,origin='lower')\n",
    "    plt.title(str(dt))\n",
    "    plt.colorbar()\n",
    "    plt.show()\n",
    "    \n",
    "    del matrix_lon_array; del matrix_lat_array; del train_x; del train_y; del OK; del values; del ss1        \n",
    "\n",
    "print(len(air_kriging))"
   ]
  },
  {
   "cell_type": "code",
   "execution_count": null,
   "metadata": {
    "ExecuteTime": {
     "end_time": "2020-11-25T10:07:46.437544Z",
     "start_time": "2020-11-25T10:07:42.331Z"
    },
    "hidden": true,
    "scrolled": false
   },
   "outputs": [],
   "source": [
    "air20_arr = np.array(pd.read_csv('air-2020.csv'))\n",
    "first_lst = []\n",
    "count=0\n",
    "for data_nb in tqdm(range(len(air20_arr))):\n",
    "    if (air20_arr[data_nb][0][-8:] == '08:00:00') or (air20_arr[data_nb][0][-8:] == '20:00:00'):\n",
    "        count+=1\n",
    "        first_lst.append(air20_arr[data_nb])\n",
    "print(np.array(first_lst).shape)\n",
    "df = pd.DataFrame(data=np.array(first_lst),columns=['dt',\"lat\", \"lon\",'pm25','pm10','temperature','humidity'])\n",
    "df.to_csv('Align_AIR_Testing.csv',index=False)\n",
    "\n",
    "df = pd.read_csv('Align_AIR_Testing.csv')\n",
    "\n",
    "dts=df.dt.unique()\n",
    "\n",
    "# air_kriging = []\n",
    "grid_lon = np.array(np.arange(204),dtype='float32')\n",
    "grid_lat = np.array(np.arange(348),dtype='float32') \n",
    "\n",
    "for dt in tqdm(dts[162:163]):\n",
    "    one_dt=df[df.dt==dt]\n",
    "\n",
    "    x_train = one_dt[['lat', 'lon']]\n",
    "    y_train = one_dt.iloc[:, 3:4] #pm2.5\n",
    "\n",
    "    matrix_lon_list = [];matrix_lat_list = []; value_list=[]\n",
    "    for i in range(len(x_train)):\n",
    "        if (np.array(x_train)[i][0] > 21.87) and (np.array(x_train)[i][0] < 25.35) and (np.array(x_train)[i][1] > 120) and (np.array(x_train)[i][1] < 122.04) and (np.array(y_train)[i][0] <=300):\n",
    "            matrix_lon = int(round((np.array(x_train)[i][1]-120)/((122.04-120)/204),0))\n",
    "            matrix_lat = int(round((np.array(x_train)[i][0]-21.87)/((25.35-21.87)/348),0))\n",
    "            matrix_lon_list.append(matrix_lon)\n",
    "            matrix_lat_list.append(matrix_lat)\n",
    "            value_list.append(np.array(y_train)[i][0])\n",
    "\n",
    "    matrix_lon_array = np.array(matrix_lon_list,dtype='float32')\n",
    "    matrix_lat_array = np.array(matrix_lat_list,dtype='float32')       \n",
    "    train_x = np.array(np.vstack((matrix_lon_array,matrix_lat_array)).T,dtype='float32')    \n",
    "    train_y = np.array(value_list,dtype='float32')\n",
    "\n",
    "\n",
    "#     OK = OrdinaryKriging(train_x[:,0], train_x[:,1], train_y, variogram_model='linear',\n",
    "#                          verbose=False, nlags=50, weight=True, exact_values=False, pseudo_inv=True)\n",
    "    \n",
    "    OK = OrdinaryKriging(train_x[:,0], train_x[:,1], train_y, variogram_model='linear',\n",
    "                         verbose=False, nlags=6, weight=True, exact_values=False, pseudo_inv=False)    \n",
    "\n",
    "    values, ss1 = OK.execute('grid', grid_lon, grid_lat)\n",
    "    plt.imshow(values)\n",
    "    \n",
    "    \n",
    "    air_kriging.append(values)\n",
    "    del matrix_lon_array; del matrix_lat_array; del train_x; del train_y; del OK; del values; del ss1\n",
    "    gc.collect()\n",
    "    \n",
    "\n",
    "# print(len(air_kriging))"
   ]
  },
  {
   "cell_type": "code",
   "execution_count": null,
   "metadata": {
    "ExecuteTime": {
     "end_time": "2021-02-08T12:34:25.921996Z",
     "start_time": "2021-02-08T12:34:03.438820Z"
    },
    "hidden": true,
    "scrolled": false
   },
   "outputs": [],
   "source": [
    "AIR_Training = np.load('Target_Embedding/Fill_TE_Data/AIR_Align_Kriging_Training_del.npy')\n",
    "AIR_Testing = np.load('Target_Embedding/Fill_TE_Data/AIR_Align_Kriging_Testing_del.npy')\n",
    "sta_lat=[9,61,66,70,70,74,74,76,77,81,81,82,87,89,89,\n",
    "         102,112,118,118,125,144,160,160,169,185,185,\n",
    "         189,189,189,205,206,210,211,220,223,227,229,\n",
    "         230,236,239,252,270,277,283,288,288,294,300,\n",
    "         304,309,309,311,312,313,315,315,316,317,317,\n",
    "         318,319,320,320,320,320,320,321,321,324,326,\n",
    "         330,331,332]\n",
    "\n",
    "sta_lon=[79,42,57,34,43,31,32,36,29,30,49,34,33,31,116,\n",
    "         54,21,22,117,30,32,25,45,35,21,55,26,35,68,69,\n",
    "         41,97,160,55,68,47,65,62,57,75,76,83,180,90,109,\n",
    "         175,98,122,104,121,123,154,146,131,146,152,153,\n",
    "         109,144,151,158,121,149,152,153,165,137,150,152,\n",
    "         177,145,169,153]\n",
    "\n",
    "AIR73_Training = np.zeros_like(AIR_Training)\n",
    "AIR73_Testing = np.zeros_like(AIR_Testing)\n",
    "\n",
    "for lat, lon in zip(sta_lat, sta_lon):\n",
    "    AIR73_Training[:, lat, lon, :] = AIR_Training[:, lat, lon, :]\n",
    "    AIR73_Testing[:, lat, lon, :] = AIR_Testing[:, lat, lon, :]"
   ]
  },
  {
   "cell_type": "code",
   "execution_count": null,
   "metadata": {
    "ExecuteTime": {
     "end_time": "2021-02-08T12:53:28.950576Z",
     "start_time": "2021-02-08T12:50:36.759700Z"
    },
    "hidden": true,
    "scrolled": false
   },
   "outputs": [],
   "source": [
    "total_result = []\n",
    "test_x = ([[i,j] for i in range(348) for j in range(204)])\n",
    "\n",
    "input_data = AIR73_Training\n",
    "\n",
    "\n",
    "for i in tqdm(range(input_data.shape[0])):\n",
    "    value_lst, result = ([] for _ in range(2))\n",
    "    \n",
    "    lat_all = (np.where(input_data[i,:,:,0] != 0)[0])\n",
    "    lon_all = (np.where(input_data[i,:,:,0] != 0)[1])\n",
    "    \n",
    "    for lat, lon in zip(lat_all, lon_all): value_lst.append(input_data[i,lat,lon,0])\n",
    "\n",
    "    train_x = np.vstack((lat_all,lon_all)).T\n",
    "    train_y = value_lst\n",
    "    \n",
    "    \n",
    "#     knn = neighbors.KNeighborsRegressor(3, weights = 'distance')\n",
    "    knn = neighbors.KNeighborsRegressor(5, weights = 'distance')    \n",
    "    knn_fit = knn.fit(train_x, train_y)\n",
    "    test_y = knn_fit.predict(test_x)\n",
    "    for k in range(348):\n",
    "        result.append(test_y[k*204:(k+1)*204])\n",
    "        \n",
    "    total_result.append(result)\n",
    "\n",
    "AIR73_train_fill = total_result\n",
    "np.save('Target_Embedding/Fill_TE_Data/AIR73_Align_KNN5_Training.npy',AIR73_train_fill)"
   ]
  },
  {
   "cell_type": "code",
   "execution_count": null,
   "metadata": {
    "ExecuteTime": {
     "end_time": "2021-02-08T12:48:47.713159Z",
     "start_time": "2021-02-08T12:48:09.395664Z"
    },
    "hidden": true,
    "scrolled": true
   },
   "outputs": [],
   "source": [
    "total_result = []\n",
    "test_x = ([[i,j] for i in range(348) for j in range(204)])\n",
    "\n",
    "input_data = AIR73_Testing\n",
    "\n",
    "\n",
    "for i in tqdm(range(input_data.shape[0])):\n",
    "    value_lst, result = ([] for _ in range(2))\n",
    "    \n",
    "    lat_all = (np.where(input_data[i,:,:,0] != 0)[0])\n",
    "    lon_all = (np.where(input_data[i,:,:,0] != 0)[1])\n",
    "    \n",
    "    for lat, lon in zip(lat_all, lon_all): value_lst.append(input_data[i,lat,lon,0])\n",
    "\n",
    "    train_x = np.vstack((lat_all,lon_all)).T\n",
    "    train_y = value_lst\n",
    "    \n",
    "    \n",
    "#     knn = neighbors.KNeighborsRegressor(3, weights = 'distance')\n",
    "    knn = neighbors.KNeighborsRegressor(5, weights = 'distance')      \n",
    "    knn_fit = knn.fit(train_x, train_y)\n",
    "    test_y = knn_fit.predict(test_x)\n",
    "    for k in range(348):\n",
    "        result.append(test_y[k*204:(k+1)*204])\n",
    "        \n",
    "    total_result.append(result)\n",
    "\n",
    "AIR73_test_fill = total_result\n",
    "np.save('Target_Embedding/Fill_TE_Data/AIR73_Align_KNN5_Testing.npy',AIR73_test_fill)"
   ]
  },
  {
   "cell_type": "raw",
   "metadata": {
    "ExecuteTime": {
     "end_time": "2020-11-25T10:07:46.448999Z",
     "start_time": "2020-11-25T10:07:42.336Z"
    },
    "hidden": true,
    "scrolled": true
   },
   "source": [
    "q1 = np.load('AIR73_Align_KNN_Testing.npy')\n",
    "q2 = np.load('AIR73_Align_KNN_Training.npy')\n",
    "q3 = np.load('AIR_Align_Kriging_Testing.npy')\n",
    "q4 = np.load('AIR_Align_Kriging_Training.npy')\n",
    "\n",
    "q1_del = np.delete(q1,[159,162,164,169,206,232,236,261,272,280,315,329],axis=0)\n",
    "q3_del = np.delete(q3,[159,162,164,169,206,232,236,261,272,280,315,329],axis=0)\n",
    "print(q1_del.shape, q3_del.shape)\n",
    "\n",
    "q2_del = np.delete(q2,[1,29,39,44,54,57,67,153,154,193,209,271,275,302,498,513,514,524,530,536,551,570,577,610,623,634,651,669,671,1091,1096,1120,1121,1124,1172,1174,1195,1223,1242,1244,1256,1262,1267,1292,1297,1306,1308,1309,1312,1313,1316,1319,1327,1335,1339,1342,1352,1358,1359,1364,1365,1366,1373,1374,1376,1386,1394,1398,1399,1401,1403,1415,1424,1430,1448,1451,1452,1453,1458,1469,1508,1527,1528,1529,1539,1556,1582,1582,1583,1623],axis=0)\n",
    "q4_del = np.delete(q4,[1,29,39,44,54,57,67,153,154,193,209,271,275,302,498,513,514,524,530,536,551,570,577,610,623,634,651,669,671,1091,1096,1120,1121,1124,1172,1174,1195,1223,1242,1244,1256,1262,1267,1292,1297,1306,1308,1309,1312,1313,1316,1319,1327,1335,1339,1342,1352,1358,1359,1364,1365,1366,1373,1374,1376,1386,1394,1398,1399,1401,1403,1415,1424,1430,1448,1451,1452,1453,1458,1469,1508,1527,1528,1529,1539,1556,1582,1582,1583,1623],axis=0)\n",
    "print(q2_del.shape, q4_del.shape)\n",
    "\n",
    "\n",
    "np.save('AIR73_Align_KNN_Testing_del.npy',q1_del)\n",
    "np.save('AIR73_Align_KNN_Training_del.npy',q2_del)\n",
    "np.save('AIR_Align_Kriging_Testing_del.npy',q3_del)\n",
    "np.save('AIR_Align_Kriging_Training_del.npy',q4_del)"
   ]
  },
  {
   "cell_type": "markdown",
   "metadata": {
    "heading_collapsed": true
   },
   "source": [
    "# SAT_Align"
   ]
  },
  {
   "cell_type": "code",
   "execution_count": null,
   "metadata": {
    "ExecuteTime": {
     "end_time": "2020-11-26T15:08:21.835909Z",
     "start_time": "2020-11-26T15:07:58.708361Z"
    },
    "hidden": true,
    "scrolled": true
   },
   "outputs": [],
   "source": [
    "home_path = '/data1/home/weisting/CycleGan/Experiment5/'\n",
    "\n",
    "arrange_pd_training = pd.read_csv('old/Align_AIR_Training.csv')\n",
    "SAT_time_training = np.load('/data1/home/weisting/CycleGan/Experiment4/Data_Processing/Satellite_29X17_data/SAT_pm25/an_training_time.npy',allow_pickle=True)\n",
    "SAT_training = np.load(home_path+'348X204/SAT_interlinear_Training_348X204_PM25.npy',mmap_mode='r')\n",
    "\n",
    "l1 = list(np.array(SAT_time_training,dtype='str'))\n",
    "l2 = arrange_pd_training.dt.unique()\n",
    "l3 = [x for x in l1 if x not in l2]\n",
    "print(l3)\n",
    "align_SAT = []\n",
    "\n",
    "for i in range(len(l1)):\n",
    "    if l1[i] in l3:\n",
    "        print(i)\n",
    "    else:\n",
    "        align_SAT.append(SAT_training[i])\n",
    "print('total:',len(align_SAT))\n",
    "\n",
    "Sat_train_del = np.delete(np.array(align_SAT),[1,29,39,44,54,57,67,153,154,193,209,271,275,302,498,513,514,524,530,536,551,570,577,610,623,634,651,669,671,1091,1096,1120,1121,1124,1172,1174,1195,1223,1242,1244,1256,1262,1267,1292,1297,1306,1308,1309,1312,1313,1316,1319,1327,1335,1339,1342,1352,1358,1359,1364,1365,1366,1373,1374,1376,1386,1394,1398,1399,1401,1403,1415,1424,1430,1448,1451,1452,1453,1458,1469,1508,1527,1528,1529,1539,1556,1582,1582,1583,1623],axis=0)\n",
    "print(Sat_train_del.shape)\n",
    "np.save('Target_Embedding/Fill_TE_Data/SAT_Align_fill_Training_del.npy',Sat_train_del)"
   ]
  },
  {
   "cell_type": "code",
   "execution_count": null,
   "metadata": {
    "ExecuteTime": {
     "end_time": "2020-11-26T15:13:14.442313Z",
     "start_time": "2020-11-26T15:13:08.572552Z"
    },
    "hidden": true,
    "scrolled": true
   },
   "outputs": [],
   "source": [
    "arrange_pd = pd.read_csv('old/Align_AIR_Testing.csv')\n",
    "\n",
    "SAT_time = np.load('/data1/home/weisting/CycleGan/Experiment4/Data_Processing/Satellite_29X17_data/SAT_pm25/an_testing_time.npy',allow_pickle=True)\n",
    "SAT_testing = np.load(home_path+'348X204/SAT_interlinear_Testing_348X204_PM25.npy',mmap_mode='r')\n",
    "\n",
    "l1 = list(np.array(SAT_time,dtype='str'))\n",
    "l2 = arrange_pd.dt.unique()\n",
    "\n",
    "l3 = [x for x in l1 if x not in l2]\n",
    "print(l3)\n",
    "\n",
    "align_SAT = []\n",
    "\n",
    "for i in range(len(l1)):\n",
    "    if l1[i] in l3:\n",
    "        print(i)\n",
    "    else:\n",
    "        align_SAT.append(SAT_training[i])\n",
    "        \n",
    "Sat_test_del = np.delete(align_SAT,[159,162,164,169,206,232,236,261,272,280,315,329],axis=0)\n",
    "print('total:',len(Sat_test_del))\n",
    "np.save('Target_Embedding/Fill_TE_Data/SAT_Align_fill_Testing_del.npy',Sat_test_del)"
   ]
  },
  {
   "cell_type": "code",
   "execution_count": null,
   "metadata": {
    "ExecuteTime": {
     "end_time": "2021-02-08T12:39:11.976203Z",
     "start_time": "2021-02-08T12:38:43.221570Z"
    },
    "hidden": true,
    "scrolled": false
   },
   "outputs": [],
   "source": [
    "SAT_Training = np.load('Target_Embedding/Fill_TE_Data/SAT_Align_fill_Training_del.npy')\n",
    "SAT_Testing = np.load('Target_Embedding/Fill_TE_Data/SAT_Align_fill_Testing_del.npy')\n",
    "\n",
    "sta_lat=[9,61,66,70,70,74,74,76,77,81,81,82,87,89,89,\n",
    "         102,112,118,118,125,144,160,160,169,185,185,\n",
    "         189,189,189,205,206,210,211,220,223,227,229,\n",
    "         230,236,239,252,270,277,283,288,288,294,300,\n",
    "         304,309,309,311,312,313,315,315,316,317,317,\n",
    "         318,319,320,320,320,320,320,321,321,324,326,\n",
    "         330,331,332]\n",
    "\n",
    "sta_lon=[79,42,57,34,43,31,32,36,29,30,49,34,33,31,116,\n",
    "         54,21,22,117,30,32,25,45,35,21,55,26,35,68,69,\n",
    "         41,97,160,55,68,47,65,62,57,75,76,83,180,90,109,\n",
    "         175,98,122,104,121,123,154,146,131,146,152,153,\n",
    "         109,144,151,158,121,149,152,153,165,137,150,152,\n",
    "         177,145,169,153]\n",
    "\n",
    "SAT73_Training = np.zeros_like(SAT_Training)\n",
    "SAT73_Testing = np.zeros_like(SAT_Testing)\n",
    "\n",
    "for lat, lon in zip(sta_lat, sta_lon):\n",
    "    SAT73_Training[:, lat, lon, :] = SAT_Training[:, lat, lon, :]\n",
    "    SAT73_Testing[:, lat, lon, :] = SAT_Testing[:, lat, lon, :]"
   ]
  },
  {
   "cell_type": "code",
   "execution_count": null,
   "metadata": {
    "ExecuteTime": {
     "end_time": "2021-02-08T12:47:46.488241Z",
     "start_time": "2021-02-08T12:44:56.553146Z"
    },
    "hidden": true,
    "scrolled": true
   },
   "outputs": [],
   "source": [
    "total_result = []\n",
    "test_x = ([[i,j] for i in range(348) for j in range(204)])\n",
    "\n",
    "input_data = SAT73_Training\n",
    "\n",
    "\n",
    "for i in tqdm(range(input_data.shape[0])):\n",
    "    value_lst, result = ([] for _ in range(2))\n",
    "    \n",
    "    lat_all = (np.where(input_data[i,:,:,0] != 0)[0])\n",
    "    lon_all = (np.where(input_data[i,:,:,0] != 0)[1])\n",
    "    \n",
    "    for lat, lon in zip(lat_all, lon_all): value_lst.append(input_data[i,lat,lon,0])\n",
    "\n",
    "    train_x = np.vstack((lat_all,lon_all)).T\n",
    "    train_y = value_lst\n",
    "    \n",
    "#     knn = neighbors.KNeighborsRegressor(3, weights = 'distance')\n",
    "    knn = neighbors.KNeighborsRegressor(5, weights = 'distance')    \n",
    "    \n",
    "    knn_fit = knn.fit(train_x, train_y)\n",
    "    test_y = knn_fit.predict(test_x)\n",
    "    for k in range(348):result.append(test_y[k*204:(k+1)*204])\n",
    "        \n",
    "    total_result.append(result)\n",
    "\n",
    "Sat73_train_fill = total_result\n",
    "np.save('Target_Embedding/Fill_TE_Data/SAT73_Align_KNN5_Training_del.npy',Sat73_train_fill)"
   ]
  },
  {
   "cell_type": "code",
   "execution_count": null,
   "metadata": {
    "ExecuteTime": {
     "end_time": "2021-02-08T12:43:55.081320Z",
     "start_time": "2021-02-08T12:43:18.113464Z"
    },
    "hidden": true,
    "scrolled": true
   },
   "outputs": [],
   "source": [
    "total_result = []\n",
    "test_x = ([[i,j] for i in range(348) for j in range(204)])\n",
    "\n",
    "input_data = SAT73_Testing\n",
    "\n",
    "\n",
    "for i in tqdm(range(input_data.shape[0])):\n",
    "    value_lst, result = ([] for _ in range(2))\n",
    "    \n",
    "    lat_all = (np.where(input_data[i,:,:,0] != 0)[0])\n",
    "    lon_all = (np.where(input_data[i,:,:,0] != 0)[1])\n",
    "    \n",
    "    for lat, lon in zip(lat_all, lon_all): value_lst.append(input_data[i,lat,lon,0])\n",
    "\n",
    "    train_x = np.vstack((lat_all,lon_all)).T\n",
    "    train_y = value_lst\n",
    "    \n",
    "    \n",
    "#     knn = neighbors.KNeighborsRegressor(3, weights = 'distance')\n",
    "    knn = neighbors.KNeighborsRegressor(5, weights = 'distance')        \n",
    "    knn_fit = knn.fit(train_x, train_y)\n",
    "    test_y = knn_fit.predict(test_x)\n",
    "    for k in range(348):\n",
    "        result.append(test_y[k*204:(k+1)*204])\n",
    "        \n",
    "    total_result.append(result)\n",
    "\n",
    "Sat73_test_fill = total_result\n",
    "np.save('Target_Embedding/Fill_TE_Data/SAT73_Align_KNN5_Testing_del.npy',Sat73_test_fill)"
   ]
  },
  {
   "cell_type": "markdown",
   "metadata": {},
   "source": [
    "# KNN Random Testing"
   ]
  },
  {
   "cell_type": "code",
   "execution_count": null,
   "metadata": {
    "ExecuteTime": {
     "start_time": "2021-02-08T12:59:34.328Z"
    },
    "scrolled": true
   },
   "outputs": [],
   "source": [
    "home_path = '/data1/home/weisting/CycleGan/Experiment5/'\n",
    "EPA73_test_pm25 = np.load(home_path+'348X204/EPA73_Testing_348X204_PM25.npy', mmap_mode='r')[:3000]\n",
    "station_coordinate = pd.read_csv('RandomTesting/station_coordinate')\n",
    "ex5_lst = np.load('RandomTesting/extract5_list.npy')\n",
    "ex10_lst = np.load('RandomTesting/extract10_list.npy')\n",
    "ex15_lst = np.load('RandomTesting/extract15_list.npy')\n",
    "ex20_lst = np.load('RandomTesting/extract20_list.npy')\n",
    "\n",
    "EPA73_test_fill_ex20=[]\n",
    "for qq in range(15,30):\n",
    "    matrix20,lats_ex20,lons_ex20=Random_Testing(4,qq,station_coordinate, EPA73_test_pm25, ex5_lst, ex10_lst, ex15_lst, ex20_lst)\n",
    "\n",
    "    total_result = []\n",
    "    test_x = ([[i,j] for i in range(348) for j in range(204)])\n",
    "    input_data = matrix20\n",
    "    for i in tqdm(range(input_data.shape[0])):\n",
    "        value_lst, result = ([] for _ in range(2))\n",
    "\n",
    "        lat_all = (np.where(input_data[i,:,:,0] != 0)[0])\n",
    "        lon_all = (np.where(input_data[i,:,:,0] != 0)[1])\n",
    "\n",
    "        for lat, lon in zip(lat_all, lon_all): value_lst.append(input_data[i,lat,lon,0])\n",
    "\n",
    "        train_x = np.vstack((lat_all,lon_all)).T\n",
    "        train_y = value_lst\n",
    "\n",
    "\n",
    "#         knn = neighbors.KNeighborsRegressor(3, weights = 'distance')\n",
    "        knn = neighbors.KNeighborsRegressor(5, weights = 'distance')        \n",
    "        \n",
    "        knn_fit = knn.fit(train_x, train_y)\n",
    "        test_y = knn_fit.predict(test_x)\n",
    "        for k in range(348):\n",
    "            result.append(test_y[k*204:(k+1)*204])\n",
    "\n",
    "        total_result.append(result)\n",
    "    EPA73_test_fill_ex20.append(total_result)\n",
    "np.save('Target_Embedding/Fill_TE_Data/EPA73_testing_KNN5fill_ex20_15to30',EPA73_test_fill_ex20)"
   ]
  },
  {
   "cell_type": "markdown",
   "metadata": {
    "heading_collapsed": true
   },
   "source": [
    "# Kriging Random Testing "
   ]
  },
  {
   "cell_type": "code",
   "execution_count": null,
   "metadata": {
    "ExecuteTime": {
     "start_time": "2020-12-24T05:44:00.126Z"
    },
    "hidden": true,
    "scrolled": true
   },
   "outputs": [],
   "source": [
    "home_path = '/data1/home/weisting/CycleGan/Experiment5/'\n",
    "EPA73_test_pm25 = np.load(home_path+'348X204/EPA73_Testing_348X204_PM25.npy', mmap_mode='r')[:3000]\n",
    "station_coordinate = pd.read_csv('RandomTesting/station_coordinate')\n",
    "ex5_lst = np.load('RandomTesting/extract5_list.npy')\n",
    "ex10_lst = np.load('RandomTesting/extract10_list.npy')\n",
    "ex15_lst = np.load('RandomTesting/extract15_list.npy')\n",
    "ex20_lst = np.load('RandomTesting/extract20_list.npy')\n",
    "\n",
    "grid_lon = np.array(np.arange(204),dtype='float32')\n",
    "grid_lat = np.array(np.arange(348),dtype='float32') \n",
    "\n",
    "total_mse = []\n",
    "EPA73_testing_Krigingfill_ex20=[]\n",
    "for qq in range(30):\n",
    "    matrix20,lats_ex20,lons_ex20=Random_Testing(1,qq,station_coordinate, EPA73_test_pm25, ex5_lst, ex10_lst, ex15_lst, ex20_lst)\n",
    "    total_result = []\n",
    "    for i in tqdm(range(matrix20.shape[0])):\n",
    "        value_lst = [] \n",
    "\n",
    "        lat_all = (np.where(matrix20[i,:,:,0] != 0)[0])\n",
    "        lon_all = (np.where(matrix20[i,:,:,0] != 0)[1])\n",
    "\n",
    "        for lat, lon in zip(lat_all, lon_all): value_lst.append(matrix20[i,lat,lon,0])\n",
    "\n",
    "        matrix_lon_array = np.array(lon_all,dtype='float32')\n",
    "        matrix_lat_array = np.array(lat_all,dtype='float32')       \n",
    "        train_x = np.array(np.vstack((matrix_lon_array,matrix_lat_array)).T,dtype='float32')    \n",
    "        train_y = np.array(value_lst,dtype='float32')\n",
    "\n",
    "        OK = OrdinaryKriging(train_x[:,0], train_x[:,1], train_y, variogram_model='linear',\n",
    "                             verbose=False, nlags=50, weight=True, exact_values=False,pseudo_inv=True)\n",
    "        \n",
    "#         OK = OrdinaryKriging(train_x[:,0], train_x[:,1], train_y, variogram_model='linear')        \n",
    "\n",
    "        values, ss1 = OK.execute('grid', grid_lon, grid_lat)\n",
    "        total_result.append(values)\n",
    "        \n",
    "    mse,mae,mape = calculate_extract_loss(np.array(total_result),EPA73_test_pm25[:,:,:,0],lats_ex20,lons_ex20)\n",
    "    total_mse.append(mse)\n",
    "    print(mse)        \n",
    "\n",
    "    EPA73_testing_Krigingfill_ex20.append(total_result)\n",
    "print(np.array(total_mse).mean())\n",
    "# np.save('EPA73_testing_Krigingfill_ex20',EPA73_testing_Krigingfill_ex20)"
   ]
  },
  {
   "cell_type": "code",
   "execution_count": null,
   "metadata": {
    "hidden": true
   },
   "outputs": [],
   "source": []
  }
 ],
 "metadata": {
  "kernelspec": {
   "display_name": "Python 3",
   "language": "python",
   "name": "python3"
  },
  "language_info": {
   "codemirror_mode": {
    "name": "ipython",
    "version": 3
   },
   "file_extension": ".py",
   "mimetype": "text/x-python",
   "name": "python",
   "nbconvert_exporter": "python",
   "pygments_lexer": "ipython3",
   "version": "3.6.8"
  },
  "varInspector": {
   "cols": {
    "lenName": 16,
    "lenType": 16,
    "lenVar": 40
   },
   "kernels_config": {
    "python": {
     "delete_cmd_postfix": "",
     "delete_cmd_prefix": "del ",
     "library": "var_list.py",
     "varRefreshCmd": "print(var_dic_list())"
    },
    "r": {
     "delete_cmd_postfix": ") ",
     "delete_cmd_prefix": "rm(",
     "library": "var_list.r",
     "varRefreshCmd": "cat(var_dic_list()) "
    }
   },
   "types_to_exclude": [
    "module",
    "function",
    "builtin_function_or_method",
    "instance",
    "_Feature"
   ],
   "window_display": false
  }
 },
 "nbformat": 4,
 "nbformat_minor": 2
}
